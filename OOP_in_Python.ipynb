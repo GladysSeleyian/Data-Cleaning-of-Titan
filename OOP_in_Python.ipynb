{
  "nbformat": 4,
  "nbformat_minor": 0,
  "metadata": {
    "colab": {
      "provenance": []
    },
    "kernelspec": {
      "name": "python3",
      "display_name": "Python 3"
    },
    "language_info": {
      "name": "python"
    }
  },
  "cells": [
    {
      "cell_type": "markdown",
      "source": [
        "Class"
      ],
      "metadata": {
        "id": "Ot7FFZ0uHkGa"
      }
    },
    {
      "cell_type": "code",
      "execution_count": null,
      "metadata": {
        "colab": {
          "base_uri": "https://localhost:8080/"
        },
        "id": "dTs0CSedHXZh",
        "outputId": "4f746b61-829a-48c2-9090-c5c866fdd302"
      },
      "outputs": [
        {
          "output_type": "stream",
          "name": "stdout",
          "text": [
            "Starting the engine...\n",
            "Driving Camry\n"
          ]
        }
      ],
      "source": [
        "class Car:\n",
        "  def __init__(self,make,model):\n",
        "    self.make = make\n",
        "    self.model = model\n",
        "\n",
        "  def start(self):\n",
        "    print(\"Starting the engine...\")\n",
        "\n",
        "  def drive(self):\n",
        "    print(\"Driving\",self.model)\n",
        "\n",
        "my_car = Car(\"Toyota\",\"Camry\")\n",
        "my_car.start()\n",
        "my_car.drive()"
      ]
    },
    {
      "cell_type": "markdown",
      "source": [
        "This code defines a class Car with attributes make and model, and methods start() and drive(). Here's a breakdown of what each part of the code does:\n",
        "\n",
        "•\tclass Car:: Defines a class named Car.\n",
        "\n",
        "•\tdef __init__(self, make, model):: Defines the constructor method __init__() which initializes the attributes make and model when a Car object is created. It takes make and model as parameters.\n",
        "\n",
        "•\tself.make = make: Assigns the value of the parameter make to the attribute make of the Car object.\n",
        "\n",
        "•\tself.model = model: Assigns the value of the parameter model to the attribute model of the Car object.\n",
        "\n",
        "•\tdef start(self):: Defines a method named start() which prints \"Starting engine\" when called.\n",
        "\n",
        "•\tdef drive(self):: Defines a method named drive() which prints \"Driving\" followed by the value of the model attribute when called.\n",
        "\n",
        "•\tmy_car = Car(\"Toyota\", \"Camry\"): Creates an instance of the Car class named my_car with the make attribute set to \"Toyota\" and the model attribute set to \"Camry\".\n",
        "\n",
        "•\tmy_car.start(): Calls the start() method of the my_car object, which prints \"Starting engine\".\n",
        "\n",
        "•\tmy_car.drive(): Calls the drive() method of the my_car object, which prints \"Driving Camry\".\n"
      ],
      "metadata": {
        "id": "ZP0OwCNaUr4L"
      }
    },
    {
      "cell_type": "markdown",
      "source": [
        "Inheritance"
      ],
      "metadata": {
        "id": "LCOXsplWaeEM"
      }
    },
    {
      "cell_type": "code",
      "source": [
        "class Vehicle:\n",
        "\n",
        "  def __init__(self,num_wheels, weight):\n",
        "    self.num_wheels = num_wheels\n",
        "    self.weight = weight\n",
        "\n",
        "  def start(self):\n",
        "    print(\"Starting the engine...\")\n",
        "\n",
        "  def stop(self):\n",
        "    print(\"Stopping the vehicle\")\n",
        "\n",
        "class Car(Vehicle):\n",
        "\n",
        "  def open_trunk(self):\n",
        "    print(\"Opening the trunk\")\n",
        "\n",
        "my_car = Car(4,2000)\n",
        "my_car.start() #inherited method\n",
        "my_car.open_trunk()#car's own method\n"
      ],
      "metadata": {
        "colab": {
          "base_uri": "https://localhost:8080/"
        },
        "id": "noZvwPT-acVs",
        "outputId": "e5b80f28-a61f-428d-aa76-ecc8eb1b2b9c"
      },
      "execution_count": null,
      "outputs": [
        {
          "output_type": "stream",
          "name": "stdout",
          "text": [
            "Starting the engine...\n",
            "Opening the trunk\n"
          ]
        }
      ]
    },
    {
      "cell_type": "markdown",
      "source": [
        "Encapsulation"
      ],
      "metadata": {
        "id": "ll-xRoTu_p0Y"
      }
    },
    {
      "cell_type": "code",
      "source": [
        "class BankAccount:\n",
        "  def __init__(self, balance):\n",
        "    self.__balance = balance #private attribute\n",
        "  def get_balance(self):\n",
        "    return self.__balance\n",
        "  def deposit(self,amount):\n",
        "    self.__balance += amount\n",
        "acct = BankAccount(1000)\n",
        "print(acct.get_balance()) #call getter\n",
        "acct.deposit(500) #call method to modify balance\n",
        "print(acct.get_balance()) #call getter\n"
      ],
      "metadata": {
        "colab": {
          "base_uri": "https://localhost:8080/"
        },
        "id": "KOjy9L1e_s2A",
        "outputId": "bda5ae10-b76c-452e-e66d-00299bf722d2"
      },
      "execution_count": null,
      "outputs": [
        {
          "output_type": "stream",
          "name": "stdout",
          "text": [
            "1000\n",
            "1500\n"
          ]
        }
      ]
    },
    {
      "cell_type": "markdown",
      "source": [
        "Polymorphism"
      ],
      "metadata": {
        "id": "stc6fiJ_TA7e"
      }
    },
    {
      "cell_type": "code",
      "source": [
        "class Animal:\n",
        "  def make_sound(self):\n",
        "    print(\"Animal makes a sound\")\n",
        "class Dog(Animal):\n",
        "  def make_sound(self):\n",
        "    print(\"Dog barks\")\n",
        "class Cat(Animal):\n",
        "  def make_sound(self):\n",
        "    print(\"Cat meows\")"
      ],
      "metadata": {
        "id": "FG-owKuYTGLx"
      },
      "execution_count": null,
      "outputs": []
    },
    {
      "cell_type": "code",
      "source": [
        "animal = Animal()\n",
        "animal.make_sound()\n",
        "dog = Dog()\n",
        "dog.make_sound()\n",
        "cat = Cat()\n",
        "cat.make_sound()"
      ],
      "metadata": {
        "colab": {
          "base_uri": "https://localhost:8080/"
        },
        "id": "Hrfoq3rUU4Hd",
        "outputId": "6968f2e4-f79d-45f0-b5cc-3bc9cb5debff"
      },
      "execution_count": null,
      "outputs": [
        {
          "output_type": "stream",
          "name": "stdout",
          "text": [
            "Animal makes a sound\n",
            "Dog barks\n",
            "Cat meows\n"
          ]
        }
      ]
    },
    {
      "cell_type": "code",
      "source": [
        "#Example 2\n",
        "class Vehicle:\n",
        "  def __init__(self, num_wheels, weight):\n",
        "    self.num_wheels = num_wheels\n",
        "    self.weight = weight\n",
        "  def start(self):\n",
        "    print(\"Starting the engine...\")\n",
        "\n",
        "class Car(Vehicle):\n",
        "  def __init__(self):\n",
        "    super().__init__(num_wheels=4, weight=2000)\n",
        "  def start(self):\n",
        "    print(\"Starting the car\")\n",
        "class Boat(Vehicle):\n",
        "  def __init__(self):\n",
        "    super().__init__(num_wheels=0, weight=500)\n",
        "  def start(self):\n",
        "    print(\"Starting the boat\")\n"
      ],
      "metadata": {
        "id": "gWOY-yVkP5GW"
      },
      "execution_count": null,
      "outputs": []
    },
    {
      "cell_type": "code",
      "source": [
        "car = Car()\n",
        "car.start()\n",
        "boat = Boat()\n",
        "boat.start()\n"
      ],
      "metadata": {
        "colab": {
          "base_uri": "https://localhost:8080/"
        },
        "id": "5fW-ZBFLQ6rJ",
        "outputId": "56fa056c-83a0-4a90-d70b-f51f189f174d"
      },
      "execution_count": null,
      "outputs": [
        {
          "output_type": "stream",
          "name": "stdout",
          "text": [
            "Starting the car\n",
            "Starting the boat\n"
          ]
        }
      ]
    },
    {
      "cell_type": "markdown",
      "source": [
        "Abstraction"
      ],
      "metadata": {
        "id": "OVdRt_XHYb7w"
      }
    },
    {
      "cell_type": "code",
      "source": [
        "from abc import ABC, abstractmethod\n",
        "\n",
        "class Shape(ABC): # Abstract class\n",
        "  @abstractmethod\n",
        "  def area(self):\n",
        "    pass\n",
        "\n",
        "class Circle(Shape): # Concrete subclass\n",
        "  def __init__(self,radius):\n",
        "    self.radius = radius\n",
        "\n",
        "  def area(self):\n",
        "    return 3.14*self.radius**2\n",
        "circle = Circle(5) #creating a circle object with radius 5\n",
        "print(circle.area()) # calling the area() method to calculate and print the area of the circle\n"
      ],
      "metadata": {
        "colab": {
          "base_uri": "https://localhost:8080/"
        },
        "id": "3LKoMp2GZC4J",
        "outputId": "bd4bc23c-ed45-4a53-a73d-189672dd5f76"
      },
      "execution_count": null,
      "outputs": [
        {
          "output_type": "stream",
          "name": "stdout",
          "text": [
            "78.5\n"
          ]
        }
      ]
    },
    {
      "cell_type": "code",
      "source": [
        "#Example 2\n",
        "class Vehicle(ABC):\n",
        "  @abstractmethod\n",
        "  def start(self):\n",
        "    pass\n",
        "\n",
        "  @abstractmethod\n",
        "  def stop(self):\n",
        "    pass\n",
        "class Car(Vehicle):\n",
        "  def start(self):\n",
        "    print(\"Starting the car\")\n",
        "\n",
        "  def stop(self):\n",
        "    print(\"Stopping the car\")\n",
        "\n",
        "class Motorcycle(Vehicle):\n",
        "  def start(self):\n",
        "    print(\"Starting the motorcycle\")\n",
        "\n",
        "  def stop(self):\n",
        "    print(\"Stopping the motorcycle\")\n"
      ],
      "metadata": {
        "id": "utB60UohRRAd"
      },
      "execution_count": null,
      "outputs": []
    },
    {
      "cell_type": "code",
      "source": [
        "car = Car()\n",
        "motorcycle= Motorcycle()\n",
        "\n",
        "car.start()\n",
        "car.stop()\n",
        "print()\n",
        "\n",
        "motorcycle.start()\n",
        "motorcycle.stop()\n",
        "print()"
      ],
      "metadata": {
        "colab": {
          "base_uri": "https://localhost:8080/"
        },
        "id": "P1DX_j3CRxjW",
        "outputId": "e24d6df0-53ca-4147-effa-c39eb1890a01"
      },
      "execution_count": null,
      "outputs": [
        {
          "output_type": "stream",
          "name": "stdout",
          "text": [
            "Starting the car\n",
            "Stopping the car\n",
            "\n",
            "Starting the motorcycle\n",
            "Stopping the motorcycle\n",
            "\n"
          ]
        }
      ]
    },
    {
      "cell_type": "markdown",
      "source": [
        "Method Overriding"
      ],
      "metadata": {
        "id": "Y0jQUHi71WJ5"
      }
    },
    {
      "cell_type": "code",
      "source": [
        "class Animal:\n",
        "  def make_sound(self):\n",
        "    print(\"Animal makes a sound\")\n",
        "class Dog(Animal):\n",
        "  def make_sound(self):\n",
        "    print(\"Dog barks\")"
      ],
      "metadata": {
        "id": "VueNulpSSU6R"
      },
      "execution_count": null,
      "outputs": []
    },
    {
      "cell_type": "code",
      "source": [
        "class Vehicle:\n",
        "  def start(self):\n",
        "    print(\"Starting the engine...\")\n",
        "class Car(Vehicle):\n",
        "  def start(self):\n",
        "    print(\"Starting the car\")\n",
        "#Overrides Vehicle start()\n",
        "\n",
        "#Creating an object of Car class\n",
        "car=Car()\n",
        "#Calling the start method of car object\n",
        "car.start()"
      ],
      "metadata": {
        "colab": {
          "base_uri": "https://localhost:8080/"
        },
        "id": "7QQmak9ZSZt5",
        "outputId": "268c2d08-52bc-41f1-f993-ce4bb2198363"
      },
      "execution_count": null,
      "outputs": [
        {
          "output_type": "stream",
          "name": "stdout",
          "text": [
            "Starting the car\n"
          ]
        }
      ]
    },
    {
      "cell_type": "markdown",
      "source": [
        "Method Overloading"
      ],
      "metadata": {
        "id": "1NSpXfGu2ENp"
      }
    },
    {
      "cell_type": "code",
      "source": [
        "class Math:\n",
        "  def add(self,x,y, z=None):\n",
        "    if z is None:\n",
        "      return x+y\n",
        "    else:\n",
        "      return x+y+z\n",
        "#Overloaded add()\n",
        "\n",
        "math = Math()\n",
        "print(math.add(2,3))   #calls the first add()\n",
        "print(math.add(2,3,4)) # calls the second add()"
      ],
      "metadata": {
        "colab": {
          "base_uri": "https://localhost:8080/"
        },
        "id": "wKDpRRqTTHNT",
        "outputId": "312f3edd-7cd2-458a-f128-7dfa12516c2d"
      },
      "execution_count": null,
      "outputs": [
        {
          "output_type": "stream",
          "name": "stdout",
          "text": [
            "5\n",
            "9\n"
          ]
        }
      ]
    }
  ]
}